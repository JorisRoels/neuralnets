{
 "cells": [
  {
   "cell_type": "markdown",
   "id": "39da10fe-4743-44e9-8d9e-b2aa92db24dd",
   "metadata": {},
   "source": [
    "This script illustrates how to train a 2D U-Net on a labeled 3D EM volume. \n",
    "\n",
    "We will start by loading in the required modules and configuring the environment. "
   ]
  },
  {
   "cell_type": "code",
   "execution_count": 1,
   "id": "4a4725ff-33de-40f3-9f5a-5909dfcdf980",
   "metadata": {},
   "outputs": [],
   "source": [
    "# configure environment\n",
    "import sys\n",
    "sys.path.append('/home/jorisro/research/neuralnets')  # adjust this if necessary! This should point to the neuralnets repository\n",
    "\n",
    "# dependencies\n",
    "import argparse\n",
    "import numpy as np\n",
    "import yaml\n",
    "import os\n",
    "import torch\n",
    "import pytorch_lightning as pl\n",
    "import matplotlib.pyplot as plt\n",
    "\n",
    "from multiprocessing import freeze_support\n",
    "from torch.utils.data import DataLoader\n",
    "from pytorch_lightning.callbacks import ModelCheckpoint\n",
    "\n",
    "from neuralnets.data.datasets import LabeledVolumeDataset, LabeledSlidingWindowDataset\n",
    "from neuralnets.networks.unet import UNet2D\n",
    "from neuralnets.util.io import print_frm, rmdir, cp\n",
    "from neuralnets.util.tools import set_seed, parse_params, get_transforms\n",
    "from neuralnets.util.losses import get_loss_function\n",
    "from neuralnets.util.validation import validate"
   ]
  },
  {
   "cell_type": "markdown",
   "id": "be734a12-e74e-4835-9fd2-28f9f000e416",
   "metadata": {},
   "source": [
    "Training a segmentation model requires quite some parameters to be set. These parameters can be bundled in a configuration YAML file. The following code loads and parses these parameters. "
   ]
  },
  {
   "cell_type": "code",
   "execution_count": 2,
   "id": "e198155d-3298-4c88-8eac-daf6c2d13336",
   "metadata": {},
   "outputs": [],
   "source": [
    "param_config_file = 'train.yaml'  # adjust this path/file if necessary! \n",
    "with open(param_config_file) as file:\n",
    "    params = parse_params(yaml.load(file, Loader=yaml.FullLoader))"
   ]
  },
  {
   "cell_type": "markdown",
   "id": "b2a11ab7-7acb-48c6-b091-48cb7c87faad",
   "metadata": {},
   "source": [
    "If trained from scratch, U-Nets are usually initialized with random parameters. Consequently, subsequent runs will not necessarily result in the same result. To make sure that training is reproducible, you can fix a seed. "
   ]
  },
  {
   "cell_type": "code",
   "execution_count": 3,
   "id": "f0d6d0f4-6317-4e69-a00f-17bec345c201",
   "metadata": {},
   "outputs": [],
   "source": [
    "set_seed(params['seed'])"
   ]
  },
  {
   "cell_type": "markdown",
   "id": "5fda1537-e6aa-4edd-b2cb-5c01db1b29e8",
   "metadata": {},
   "source": [
    "We will now load the datasets and take care of data augmentation. The data is loaded in a PyTorch Dataset, sampling and batching can be automatically performed using PyTorch DataLoader wrappers. There are different types of datasets supported. Usually, a LabeledVolumeDataset is used: this will randomly select samples from the whole volume during training. In some situations however, a sliding window type of sampling is prefered (e.g. during testing). This is supported in a LabeledSlidingWindowDataset. Note that these datasets support unlabeled pixels, these should have intensity value 255 and will be ignored during training/testing. You can also provide a list of datasets, for this you should check out the documentation. \n",
    "\n",
    "Ideally, you want to keep track of the training progress with a training and validation dataset (e.g. to check overfitting), and measure the final performance on a separate test set. This means, the data should be split in three parts: train, validation and test. This splitting happens during initialization of the Dataset. Note that the augmentation transform is solely provided to the training dataset. "
   ]
  },
  {
   "cell_type": "code",
   "execution_count": 4,
   "id": "d25147b7-c54e-4d2f-8f35-7f09f8346d97",
   "metadata": {},
   "outputs": [
    {
     "name": "stdout",
     "output_type": "stream",
     "text": [
      "[2022-05-23 12:58:12.832301] Applying data augmentation! Specifically ['rot90', 'flipx', 'flipy', 'contrast', 'noise']\n",
      "[2022-05-23 12:58:12.833110] Loading data\n",
      "[2022-05-23 12:58:22.003438] Label distribution: \n",
      "[2022-05-23 12:58:22.003925]   Dataset /home/jorisro/research/data/EM/EPFL/raw\n",
      "[2022-05-23 12:58:22.004577]     - Class 0: 0.944 (train) - 0.938 (val) - 0.956 (test)\n",
      "[2022-05-23 12:58:22.004835]     - Class 1: 0.056 (train) - 0.062 (val) - 0.044 (test)\n",
      "[2022-05-23 12:58:22.005101]     - Unlabeled pixels: 0.000 (train) - 0.000 (val) - 0.000 (test)\n"
     ]
    }
   ],
   "source": [
    "# input shape as a 3-tuple (e.g. (1, 256, 256))\n",
    "input_shape = (1, *(params['input_size']))  \n",
    "\n",
    "# 2-tuple that indicates how to split the volume (e.g. 0.50, 0.75) will use 50% for training, 25% for validation and 25% for testing)\n",
    "split = params['train_val_test_split']  \n",
    "\n",
    "# obtain the transform that will perform data augmentation\n",
    "transform = get_transforms(params['augmentation'], coi=params['coi'])\n",
    "print_frm('Applying data augmentation! Specifically %s' % str(params['augmentation']))\n",
    "\n",
    "# extract the train, validation and test datasets (the data will be loaded at this moment)\n",
    "print_frm('Loading data')\n",
    "train = LabeledVolumeDataset(params['data'], params['labels'], input_shape=input_shape,\n",
    "                             in_channels=params['in_channels'], type=params['type'], len_epoch=params['len_epoch'],\n",
    "                             batch_size=params['train_batch_size'], transform=transform, range_split=(0, split[0]),\n",
    "                             range_dir=params['split_orientation'], coi=params['coi'])\n",
    "val = LabeledSlidingWindowDataset(params['data'], params['labels'], input_shape=input_shape,\n",
    "                                  in_channels=params['in_channels'], type=params['type'],\n",
    "                                  batch_size=params['test_batch_size'], range_split=(split[0], split[1]),\n",
    "                                  range_dir=params['split_orientation'], coi=params['coi'])\n",
    "test = LabeledSlidingWindowDataset(params['data'], params['labels'], input_shape=input_shape,\n",
    "                                   in_channels=params['in_channels'], type=params['type'],\n",
    "                                   batch_size=params['test_batch_size'], range_split=(split[1], 1),\n",
    "                                   range_dir=params['split_orientation'], coi=params['coi'])\n",
    "train_loader = DataLoader(train, batch_size=params['train_batch_size'], num_workers=params['num_workers'],\n",
    "                          pin_memory=True)\n",
    "val_loader = DataLoader(val, batch_size=params['test_batch_size'], num_workers=params['num_workers'],\n",
    "                        pin_memory=True)\n",
    "test_loader = DataLoader(test, batch_size=params['test_batch_size'], num_workers=params['num_workers'],\n",
    "                         pin_memory=True)\n",
    "\n",
    "# show a few statistics of the data\n",
    "print_frm('Label distribution: ')\n",
    "for d in range(len(train.label_stats)):\n",
    "    print_frm('  Dataset %s' % (params['data'] if type(params['data']) == str else params['data'][d]))\n",
    "    for i in range(len(params['coi'])):\n",
    "        print_frm('    - Class %d: %.3f (train) - %.3f (val) - %.3f (test)' %\n",
    "                  (train.label_stats[d][i][0], train.label_stats[d][i][1],\n",
    "                   val.label_stats[d][i][1], test.label_stats[d][i][1]))\n",
    "    print_frm('    - Unlabeled pixels: %.3f (train) - %.3f (val) - %.3f (test)' %\n",
    "              (train.label_stats[d][-1][1], val.label_stats[d][-1][1], test.label_stats[d][-1][1]))"
   ]
  },
  {
   "cell_type": "markdown",
   "id": "42325b5a-852a-4535-ad14-200cec77419b",
   "metadata": {},
   "source": [
    "As an illustration, we can show a randomly selected sample from the training data. "
   ]
  },
  {
   "cell_type": "code",
   "execution_count": 5,
   "id": "fe7ecc41-5c8c-4ff8-bb6c-38e67b6791d5",
   "metadata": {},
   "outputs": [
    {
     "data": {
      "image/png": "[encoded data removed]",
      "text/plain": [
       "<Figure size 432x288 with 2 Axes>"
      ]
     },
     "metadata": {
      "needs_background": "light"
     },
     "output_type": "display_data"
    }
   ],
   "source": [
    "x, y = train[np.random.randint(len(train))]\n",
    "plt.subplot(1, 2, 1)\n",
    "plt.imshow(x[0], cmap='gray')\n",
    "plt.subplot(1, 2, 2)\n",
    "plt.imshow(y[0], cmap='gray')\n",
    "plt.show()"
   ]
  },
  {
   "cell_type": "markdown",
   "id": "2e412a54-56dd-4a2b-9204-5669570c0e75",
   "metadata": {},
   "source": [
    "Now that we have data, it's time to intialize the model! "
   ]
  },
  {
   "cell_type": "code",
   "execution_count": 6,
   "id": "3d7a14d4-1a4e-4951-9a67-6c86204b4f82",
   "metadata": {},
   "outputs": [
    {
     "name": "stdout",
     "output_type": "stream",
     "text": [
      "[2022-05-23 12:58:22.223126] Building the network\n"
     ]
    }
   ],
   "source": [
    "print_frm('Building the network')\n",
    "net = UNet2D(in_channels=params['in_channels'], feature_maps=params['fm'], levels=params['levels'],\n",
    "             dropout_enc=params['dropout'], dropout_dec=params['dropout'], norm=params['norm'],\n",
    "             activation=params['activation'], coi=params['coi'], loss_fn=params['loss'])\n",
    "\n",
    "# note: if you want to finetune a model, you can load the pretrained weights using this line (ckpt_file points to the weights)\n",
    "# net.load_state_dict(torch.load(ckpt_file)['state_dict'])\n",
    "\n",
    "# uncomment the line below if you want to see the architecture of the model. \n",
    "# print(net)"
   ]
  },
  {
   "cell_type": "markdown",
   "id": "b281a7c9-971c-4c95-b30c-5dd4b8a8fc80",
   "metadata": {},
   "source": [
    "We can now start training the model. To do this, we will employ the PyTorch Lighting library, which allows to efficiently train in a distributed manner. Simply construct a trainer object with all its required parameters (number of training epochs, GPU ids, logging directory, etc.) and start training! This is the time-consuming part where you really need a GPU. For simplicity, we only train for a few epochs, but it is advised to increase that number if you are going to train a model on new data. After each epoch, the model will be evaluated on the validation set, and we will keep track of progress. Finally, the best model will be saved and can be used, e.g. on new datasets. "
   ]
  },
  {
   "cell_type": "code",
   "execution_count": 7,
   "id": "77263578-617e-41d0-b902-d5983c780729",
   "metadata": {},
   "outputs": [
    {
     "name": "stdout",
     "output_type": "stream",
     "text": [
      "[2022-05-23 12:58:22.252379] Starting training\n",
      "[2022-05-23 12:58:22.253791] Training with loss: Cross entropy\n"
     ]
    },
    {
     "name": "stderr",
     "output_type": "stream",
     "text": [
      "GPU available: True, used: True\n",
      "TPU available: False, using: 0 TPU cores\n",
      "IPU available: False, using: 0 IPUs\n",
      "LOCAL_RANK: 0 - CUDA_VISIBLE_DEVICES: [0]\n",
      "\n",
      "  | Name    | Type             | Params\n",
      "---------------------------------------------\n",
      "0 | loss_fn | CrossEntropyLoss | 0     \n",
      "1 | encoder | UNetEncoder2D    | 1.2 M \n",
      "2 | decoder | UNetDecoder2D    | 763 K \n",
      "---------------------------------------------\n",
      "1.9 M     Trainable params\n",
      "0         Non-trainable params\n",
      "1.9 M     Total params\n",
      "7.775     Total estimated model params size (MB)\n"
     ]
    },
    {
     "data": {
      "application/vnd.jupyter.widget-view+json": {
       "model_id": "",
       "version_major": 2,
       "version_minor": 0
      },
      "text/plain": [
       "Validation sanity check: 0it [00:00, ?it/s]"
      ]
     },
     "metadata": {},
     "output_type": "display_data"
    },
    {
     "data": {
      "application/vnd.jupyter.widget-view+json": {
       "model_id": "ae66bd26a170496babd0541386f2a1e1",
       "version_major": 2,
       "version_minor": 0
      },
      "text/plain": [
       "Training: -1it [00:00, ?it/s]"
      ]
     },
     "metadata": {},
     "output_type": "display_data"
    },
    {
     "data": {
      "application/vnd.jupyter.widget-view+json": {
       "model_id": "",
       "version_major": 2,
       "version_minor": 0
      },
      "text/plain": [
       "Validating: 0it [00:00, ?it/s]"
      ]
     },
     "metadata": {},
     "output_type": "display_data"
    },
    {
     "name": "stderr",
     "output_type": "stream",
     "text": [
      "Epoch 0, global step 124: val/mIoU reached 0.53923 (best 0.53923), saving model to \"unet_2d/lightning_logs/version_0/checkpoints/epoch=0-step=124-v1.ckpt\" as top 1\n"
     ]
    },
    {
     "data": {
      "application/vnd.jupyter.widget-view+json": {
       "model_id": "",
       "version_major": 2,
       "version_minor": 0
      },
      "text/plain": [
       "Validating: 0it [00:00, ?it/s]"
      ]
     },
     "metadata": {},
     "output_type": "display_data"
    },
    {
     "name": "stderr",
     "output_type": "stream",
     "text": [
      "Epoch 1, global step 249: val/mIoU reached 0.67475 (best 0.67475), saving model to \"unet_2d/lightning_logs/version_0/checkpoints/epoch=1-step=249-v1.ckpt\" as top 1\n"
     ]
    },
    {
     "data": {
      "application/vnd.jupyter.widget-view+json": {
       "model_id": "",
       "version_major": 2,
       "version_minor": 0
      },
      "text/plain": [
       "Validating: 0it [00:00, ?it/s]"
      ]
     },
     "metadata": {},
     "output_type": "display_data"
    },
    {
     "name": "stderr",
     "output_type": "stream",
     "text": [
      "Epoch 2, global step 374: val/mIoU was not in top 1\n"
     ]
    },
    {
     "data": {
      "application/vnd.jupyter.widget-view+json": {
       "model_id": "",
       "version_major": 2,
       "version_minor": 0
      },
      "text/plain": [
       "Validating: 0it [00:00, ?it/s]"
      ]
     },
     "metadata": {},
     "output_type": "display_data"
    },
    {
     "name": "stderr",
     "output_type": "stream",
     "text": [
      "Epoch 3, global step 499: val/mIoU reached 0.75749 (best 0.75749), saving model to \"unet_2d/lightning_logs/version_0/checkpoints/epoch=3-step=499-v1.ckpt\" as top 1\n"
     ]
    },
    {
     "data": {
      "application/vnd.jupyter.widget-view+json": {
       "model_id": "",
       "version_major": 2,
       "version_minor": 0
      },
      "text/plain": [
       "Validating: 0it [00:00, ?it/s]"
      ]
     },
     "metadata": {},
     "output_type": "display_data"
    },
    {
     "name": "stderr",
     "output_type": "stream",
     "text": [
      "Epoch 4, global step 624: val/mIoU reached 0.76576 (best 0.76576), saving model to \"unet_2d/lightning_logs/version_0/checkpoints/epoch=4-step=624-v1.ckpt\" as top 1\n"
     ]
    },
    {
     "name": "stdout",
     "output_type": "stream",
     "text": [
      "[2022-05-23 13:00:51.750797] Saving best model\n",
      "[2022-05-23 13:00:51.751582] Copying unet_2d/lightning_logs/version_0/checkpoints/epoch=4-step=624-v1.ckpt -> unet_2d/best_model.ckpt\n"
     ]
    }
   ],
   "source": [
    "print_frm('Starting training')\n",
    "print_frm('Training with loss: %s' % get_loss_function(params['loss']))\n",
    "checkpoint_callback = ModelCheckpoint(save_top_k=1, verbose=True, monitor='val/mIoU', mode='max')\n",
    "trainer = pl.Trainer(max_epochs=params['epochs'], gpus=params['gpus'], accelerator=params['accelerator'],\n",
    "                     default_root_dir=params['log_dir'], flush_logs_every_n_steps=params['log_freq'],\n",
    "                     log_every_n_steps=params['log_freq'], callbacks=[checkpoint_callback],\n",
    "                     progress_bar_refresh_rate=params['log_refresh_rate'])\n",
    "trainer.fit(net, train_loader, val_loader)\n",
    "print_frm('Saving best model')\n",
    "cp(trainer.checkpoint_callback.best_model_path, os.path.join(params['log_dir'], 'best_model.ckpt'))"
   ]
  },
  {
   "cell_type": "markdown",
   "id": "8e7324f7-1edc-40f2-91f0-d40b5400883e",
   "metadata": {},
   "source": [
    "Congratulations! You've trained a 2D U-Net from scratch! Now it's time to test the best model on the test data and measure the performance. "
   ]
  },
  {
   "cell_type": "code",
   "execution_count": 8,
   "id": "38478441-28df-40f1-b722-ac4e9f60ef50",
   "metadata": {},
   "outputs": [
    {
     "name": "stdout",
     "output_type": "stream",
     "text": [
      "[2022-05-23 13:00:51.772028] Validating the network\n",
      "[2022-05-23 13:00:51.833709]   Dataset /home/jorisro/research/data/EM/EPFL/raw\n"
     ]
    },
    {
     "data": {
      "application/vnd.jupyter.widget-view+json": {
       "model_id": "b7fee4f8ca06452c9fc23fc329056f72",
       "version_major": 2,
       "version_minor": 0
      },
      "text/plain": [
       "Progress z-axis:   0%|          | 0/83 [00:00<?, ?it/s]"
      ]
     },
     "metadata": {},
     "output_type": "display_data"
    },
    {
     "name": "stdout",
     "output_type": "stream",
     "text": [
      "[2022-05-23 13:01:26.304394] Making unet_2d/test_segmentation_0\n",
      "[2022-05-23 13:01:33.595269] Validation performance for class 0: \n",
      "[2022-05-23 13:01:33.597766]     - Accuracy: 0.988868\n",
      "[2022-05-23 13:01:33.598958]     - Balanced accuracy: 0.906027\n",
      "[2022-05-23 13:01:33.600340]     - Precision: 0.991445\n",
      "[2022-05-23 13:01:33.603671]     - Recall: 0.996952\n",
      "[2022-05-23 13:01:33.604797]     - F1 score: 0.994191\n",
      "[2022-05-23 13:01:33.605928]     - IoU: 0.988469\n",
      "[2022-05-23 13:01:33.607135]     - Hausdorff distance: -1.000000\n",
      "[2022-05-23 13:01:33.608349] Validation performance for class 1: \n",
      "[2022-05-23 13:01:33.609421]     - Accuracy: 0.988868\n",
      "[2022-05-23 13:01:33.610513]     - Balanced accuracy: 0.906027\n",
      "[2022-05-23 13:01:33.611679]     - Precision: 0.925613\n",
      "[2022-05-23 13:01:33.612747]     - Recall: 0.815102\n",
      "[2022-05-23 13:01:33.613819]     - F1 score: 0.866849\n",
      "[2022-05-23 13:01:33.614976]     - IoU: 0.765074\n",
      "[2022-05-23 13:01:33.616021]     - Hausdorff distance: -1.000000\n",
      "[2022-05-23 13:01:33.617824] Validation performance mean: \n",
      "[2022-05-23 13:01:33.619171]     - Accuracy: 0.988868\n",
      "[2022-05-23 13:01:33.620488]     - Balanced accuracy: 0.906027\n",
      "[2022-05-23 13:01:33.621646]     - Precision: 0.958529\n",
      "[2022-05-23 13:01:33.622845]     - Recall: 0.906027\n",
      "[2022-05-23 13:01:33.623966]     - F1 score: 0.930520\n",
      "[2022-05-23 13:01:33.625095]     - mIoU: 0.876771\n",
      "[2022-05-23 13:01:33.626219]     - Hausdorff distance: -1.000000\n"
     ]
    }
   ],
   "source": [
    "print_frm('Validating the network')\n",
    "\n",
    "# load the best parameters\n",
    "net.load_state_dict(torch.load(trainer.checkpoint_callback.best_model_path)['state_dict'])\n",
    "\n",
    "# validate all datasets (here, there's only one)\n",
    "for d in range(len(test.data)):\n",
    "    print_frm('  Dataset %s' % (params['data'] if type(params['data']) == str else params['data'][d]))\n",
    "    \n",
    "    # validate the performance and write out the segmentation\n",
    "    validate(net, test.data[d], test.get_original_labels()[d], params['input_size'], in_channels=params['in_channels'],\n",
    "             classes_of_interest=params['coi'], batch_size=params['test_batch_size'],\n",
    "             write_dir=os.path.join(params['log_dir'], 'test_segmentation_' + str(d)), track_progress=True,\n",
    "             device=params['gpus'][0])"
   ]
  },
  {
   "cell_type": "code",
   "execution_count": null,
   "id": "b15b2f27-21ed-42d5-a418-7c50d9f01156",
   "metadata": {},
   "outputs": [],
   "source": []
  }
 ],
 "metadata": {
  "kernelspec": {
   "display_name": "Python 3 (ipykernel)",
   "language": "python",
   "name": "python3"
  },
  "language_info": {
   "codemirror_mode": {
    "name": "ipython",
    "version": 3
   },
   "file_extension": ".py",
   "mimetype": "text/x-python",
   "name": "python",
   "nbconvert_exporter": "python",
   "pygments_lexer": "ipython3",
   "version": "3.8.8"
  }
 },
 "nbformat": 4,
 "nbformat_minor": 5
}
